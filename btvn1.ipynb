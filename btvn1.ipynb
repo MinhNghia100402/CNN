{
 "cells": [
  {
   "cell_type": "code",
   "execution_count": 34,
   "metadata": {},
   "outputs": [
    {
     "name": "stdout",
     "output_type": "stream",
     "text": [
      "Model: \"sequential_19\"\n",
      "_________________________________________________________________\n",
      " Layer (type)                Output Shape              Param #   \n",
      "=================================================================\n",
      " conv2d_80 (Conv2D)          (None, 54, 54, 96)        34944     \n",
      "                                                                 \n",
      " max_pooling2d_47 (MaxPoolin  (None, 26, 26, 96)       0         \n",
      " g2D)                                                            \n",
      "                                                                 \n",
      " conv2d_81 (Conv2D)          (None, 26, 26, 256)       614656    \n",
      "                                                                 \n",
      " max_pooling2d_48 (MaxPoolin  (None, 12, 12, 256)      0         \n",
      " g2D)                                                            \n",
      "                                                                 \n",
      " conv2d_82 (Conv2D)          (None, 12, 12, 384)       885120    \n",
      "                                                                 \n",
      " conv2d_83 (Conv2D)          (None, 12, 12, 384)       1327488   \n",
      "                                                                 \n",
      " conv2d_84 (Conv2D)          (None, 12, 12, 256)       884992    \n",
      "                                                                 \n",
      " max_pooling2d_49 (MaxPoolin  (None, 5, 5, 256)        0         \n",
      " g2D)                                                            \n",
      "                                                                 \n",
      " flatten_14 (Flatten)        (None, 6400)              0         \n",
      "                                                                 \n",
      " dense_42 (Dense)            (None, 4096)              26218496  \n",
      "                                                                 \n",
      " dropout_16 (Dropout)        (None, 4096)              0         \n",
      "                                                                 \n",
      " dense_43 (Dense)            (None, 4096)              16781312  \n",
      "                                                                 \n",
      " dropout_17 (Dropout)        (None, 4096)              0         \n",
      "                                                                 \n",
      " dense_44 (Dense)            (None, 1000)              4097000   \n",
      "                                                                 \n",
      "=================================================================\n",
      "Total params: 50,844,008\n",
      "Trainable params: 50,844,008\n",
      "Non-trainable params: 0\n",
      "_________________________________________________________________\n"
     ]
    }
   ],
   "source": [
    "from tensorflow.keras.layers import Conv2D,MaxPool2D,Input,Dense,Flatten,Dropout\n",
    "from tensorflow.keras import Sequential\n",
    "\n",
    "model = Sequential()\n",
    "\n",
    "model.add(Input(shape=(224,224,3)))\n",
    "\n",
    "model.add(Conv2D(96,(11,11),activation='relu',strides=4))\n",
    "model.add(MaxPool2D(pool_size=(3,3),strides=2))\n",
    "\n",
    "model.add(Conv2D(256,(5,5),activation='relu',padding='same'))\n",
    "model.add(MaxPool2D(pool_size=(3,3),strides=2))\n",
    "\n",
    "model.add(Conv2D(384,(3,3),activation='relu',padding='same',))\n",
    "model.add(Conv2D(384,(3,3),activation='relu',padding='same',))\n",
    "model.add(Conv2D(256,(3,3),activation='relu',padding='same',))\n",
    "model.add(MaxPool2D(pool_size=(3,3),strides=2))\n",
    "\n",
    "model.add(Flatten())\n",
    "\n",
    "model.add(Dense(units=4096,activation='relu'))\n",
    "model.add(Dropout(0.5))\n",
    "model.add(Dense(units=4096,activation='relu'))\n",
    "model.add(Dropout(0.5))\n",
    "model.add(Dense(units=1000,activation='softmax'))\n",
    "\n",
    "model.summary()\n"
   ]
  },
  {
   "cell_type": "code",
   "execution_count": 26,
   "metadata": {},
   "outputs": [
    {
     "name": "stdout",
     "output_type": "stream",
     "text": [
      "Model: \"sequential_11\"\n",
      "_________________________________________________________________\n",
      " Layer (type)                Output Shape              Param #   \n",
      "=================================================================\n",
      " conv2d_40 (Conv2D)          (None, 112, 112, 96)      34944     \n",
      "                                                                 \n",
      " max_pooling2d_23 (MaxPoolin  (None, 37, 37, 96)       0         \n",
      " g2D)                                                            \n",
      "                                                                 \n",
      " conv2d_41 (Conv2D)          (None, 37, 37, 256)       614656    \n",
      "                                                                 \n",
      " max_pooling2d_24 (MaxPoolin  (None, 12, 12, 256)      0         \n",
      " g2D)                                                            \n",
      "                                                                 \n",
      " conv2d_42 (Conv2D)          (None, 12, 12, 384)       885120    \n",
      "                                                                 \n",
      " conv2d_43 (Conv2D)          (None, 12, 12, 384)       1327488   \n",
      "                                                                 \n",
      " conv2d_44 (Conv2D)          (None, 12, 12, 256)       884992    \n",
      "                                                                 \n",
      " max_pooling2d_25 (MaxPoolin  (None, 4, 4, 256)        0         \n",
      " g2D)                                                            \n",
      "                                                                 \n",
      " flatten_6 (Flatten)         (None, 4096)              0         \n",
      "                                                                 \n",
      " dense_18 (Dense)            (None, 4096)              16781312  \n",
      "                                                                 \n",
      " dropout (Dropout)           (None, 4096)              0         \n",
      "                                                                 \n",
      " dense_19 (Dense)            (None, 4096)              16781312  \n",
      "                                                                 \n",
      " dropout_1 (Dropout)         (None, 4096)              0         \n",
      "                                                                 \n",
      " dense_20 (Dense)            (None, 1000)              4097000   \n",
      "                                                                 \n",
      "=================================================================\n",
      "Total params: 41,406,824\n",
      "Trainable params: 41,406,824\n",
      "Non-trainable params: 0\n",
      "_________________________________________________________________\n"
     ]
    }
   ],
   "source": [
    "model.summary()"
   ]
  }
 ],
 "metadata": {
  "interpreter": {
   "hash": "69593335bbf25ba8dae34b44c78c85c88e1e2f6365c4775c7084fd80fc76b2d1"
  },
  "kernelspec": {
   "display_name": "Python 3.9.7 ('base')",
   "language": "python",
   "name": "python3"
  },
  "language_info": {
   "codemirror_mode": {
    "name": "ipython",
    "version": 3
   },
   "file_extension": ".py",
   "mimetype": "text/x-python",
   "name": "python",
   "nbconvert_exporter": "python",
   "pygments_lexer": "ipython3",
   "version": "3.9.7"
  },
  "orig_nbformat": 4
 },
 "nbformat": 4,
 "nbformat_minor": 2
}
